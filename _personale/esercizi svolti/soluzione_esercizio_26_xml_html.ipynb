{
 "cells": [
  {
   "cell_type": "markdown",
   "metadata": {},
   "source": [
    "# Esercitazione: Modulo `lxml` con file XML e HTML\n",
    "\n",
    "Utilizza il modulo Python `lxml` per leggere ed estrarre dati da file XML e HTML.\n",
    "\n",
    "L'obiettivo è estrarre informazioni dai tag, dagli attributi e dai testi all'interno dei tag."
   ]
  },
  {
   "cell_type": "markdown",
   "metadata": {},
   "source": [
    "## File da analizzare\n",
    "\n",
    "#### File XML: [`libri.xml`](../files_esercizi/libri.xml)\n",
    "\n",
    "```xml\n",
    "<library>\n",
    "    <book id=\"1\">\n",
    "        <title>Python Programming</title>\n",
    "        <author>John Doe</author>\n",
    "        <year>2020</year>\n",
    "    </book>\n",
    "    <book id=\"2\">\n",
    "        <title>Learning XML</title>\n",
    "        <author>Jane Smith</author>\n",
    "        <year>2018</year>\n",
    "    </book>\n",
    "</library>\n",
    "```\n",
    "\n",
    "#### File HTML: [`libri.html`](../files_esercizi/libri.html)\n",
    "\n",
    "```html\n",
    "<!DOCTYPE html>\n",
    "<html>\n",
    "<head>\n",
    "    <title>Library</title>\n",
    "</head>\n",
    "<body>\n",
    "    <div class=\"book\" id=\"1\">\n",
    "        <h2>Python Programming</h2>\n",
    "        <p>Author: John Doe</p>\n",
    "        <p>Year: 2020</p>\n",
    "    </div>\n",
    "    <div class=\"book\" id=\"2\">\n",
    "        <h2>Learning XML</h2>\n",
    "        <p>Author: Jane Smith</p>\n",
    "        <p>Year: 2018</p>\n",
    "    </div>\n",
    "</body>\n",
    "</html>\n",
    "```"
   ]
  },
  {
   "cell_type": "markdown",
   "metadata": {},
   "source": [
    "### Prerequisiti\n",
    "\n",
    "**Installazione del modulo `lxml`**:\n",
    "   - Utilizza `pip` per installare il modulo `lxml` se non è già presente nell'ambiente."
   ]
  },
  {
   "cell_type": "markdown",
   "metadata": {},
   "source": [
    "### Consegna - Parte 1: XML\n",
    "\n",
    "Scrivi un programma Python che utilizza `lxml` per leggere il file [`libri.xml`](../files_esercizi/libri.xml) contenuto nella cartella `files_esercizi/`.\n",
    "\n",
    "**Accesso ai tag e agli attributi nel file XML**:\n",
    "   1. Trova tutti gli elementi `<book>` all'interno del file XML.\n",
    "   2. Per ogni elemento `<book>`, estrai:\n",
    "      - l'attributo `id`;\n",
    "      - il contenuto (testo) dei tag `<title>`, `<author>` e `<year>`.\n",
    "   3. Stampa le informazioni estratte in un formato leggibile."
   ]
  },
  {
   "cell_type": "code",
   "execution_count": 13,
   "metadata": {},
   "outputs": [
    {
     "name": "stdout",
     "output_type": "stream",
     "text": [
      "<class 'lxml.etree._ElementTree'>\n",
      "1\n",
      "Python Programming\n",
      "John Doe\n",
      "2020\n",
      "----------\n",
      "2\n",
      "Learning XML\n",
      "Jane Smith\n",
      "2018\n",
      "----------\n"
     ]
    }
   ],
   "source": [
    "# Scrivi qua il tuo codice\n",
    "from lxml import etree\n",
    "\n",
    "xml_file = \"../../files_esercizi/libri.xml\"\n",
    "\n",
    "tree = etree.parse(xml_file)\n",
    "print(type(tree))\n",
    "\n",
    "root = tree.getroot()\n",
    "\n",
    "for b in root:\n",
    "    print(b.get('id'))\n",
    "    print(b.find('title').text)\n",
    "    print(b.find('author').text)\n",
    "    print(b.find('year').text)\n",
    "    print('-'*10)"
   ]
  },
  {
   "cell_type": "markdown",
   "metadata": {},
   "source": [
    "### Consegna - Parte 2: HTML\n",
    "\n",
    "Scrivi un programma Python che utilizza `lxml` per caricare il file [`libri.html`](../files_esercizi/libri.html) contenuto nella cartella `files_esercizi/`.\n",
    "\n",
    "**Accesso ai tag e agli attributi nel file HTML**:\n",
    "   1. Trova tutti i tag `<div>` con classe `book` all'interno del file HTML.\n",
    "   2. Per ogni tag `<div>`, estrai:\n",
    "      - l'attributo `id`;\n",
    "      - il contenuto dei tag `<h2>`;\n",
    "      - `<p>` che contengono \"Author\";\n",
    "      - `<p>` che contengono \"Year\".\n",
    "   3. Stampa le informazioni estratte in un formato leggibile."
   ]
  },
  {
   "cell_type": "code",
   "execution_count": 24,
   "metadata": {},
   "outputs": [
    {
     "name": "stdout",
     "output_type": "stream",
     "text": [
      "<html>\n",
      "<head>\n",
      "    <title>Library</title>\n",
      "</head>\n",
      "<body>\n",
      "    <div class=\"book\" id=\"1\">\n",
      "        <h2>Python Programming</h2>\n",
      "        <p>Author: John Doe</p>\n",
      "        <p>Year: 2020</p>\n",
      "    </div>\n",
      "    <div class=\"book\" id=\"2\">\n",
      "        <h2>Learning XML</h2>\n",
      "        <p>Author: Jane Smith</p>\n",
      "        <p>Year: 2018</p>\n",
      "    </div>\n",
      "</body>\n",
      "</html>\n",
      "1\n",
      "Python Programming\n",
      "['Author', ' John Doe']\n",
      "----------\n",
      "2\n",
      "Learning XML\n",
      "['Author', ' Jane Smith']\n",
      "----------\n"
     ]
    }
   ],
   "source": [
    "# Scrivi qua il tuo codice\n",
    "from lxml import etree\n",
    "\n",
    "xml_file = \"../../files_esercizi/libri.html\"\n",
    "\n",
    "tree = etree.parse(xml_file)\n",
    "root = tree.getroot()\n",
    "etree.dump(root)\n",
    "\n",
    "for b in root[1]:\n",
    "   if b.get('class')=='book':\n",
    "        print(b.get('id'))\n",
    "        print(b.find('h2').text)\n",
    "        if b.find('p').text.startswith('Author'):\n",
    "            print(b.find('p').text.split(':'))\n",
    "        if b.find('p').text.startswith('Year'):\n",
    "            print(b.find('p').text.split(':'))\n",
    "        print('-'*10)"
   ]
  }
 ],
 "metadata": {
  "kernelspec": {
   "display_name": "Python 3",
   "language": "python",
   "name": "python3"
  },
  "language_info": {
   "codemirror_mode": {
    "name": "ipython",
    "version": 3
   },
   "file_extension": ".py",
   "mimetype": "text/x-python",
   "name": "python",
   "nbconvert_exporter": "python",
   "pygments_lexer": "ipython3",
   "version": "3.10.13"
  }
 },
 "nbformat": 4,
 "nbformat_minor": 2
}
