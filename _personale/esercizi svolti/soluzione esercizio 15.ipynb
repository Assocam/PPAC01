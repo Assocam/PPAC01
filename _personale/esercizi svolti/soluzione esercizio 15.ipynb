{
 "cells": [
  {
   "cell_type": "markdown",
   "metadata": {},
   "source": [
    "# Esercizio - Le età dei nostri amici"
   ]
  },
  {
   "cell_type": "markdown",
   "metadata": {},
   "source": [
    "Requisiti: `import`, `with ... as`, `open`, `dict`"
   ]
  },
  {
   "cell_type": "markdown",
   "metadata": {},
   "source": [
    "E’ dato un file `nomi_data_nascita.txt` nella cartella `/files_esercizi` del nostro repository. Il file è caratterizzato dal seguente formato rappresentante delle coppie nome/età. Per esempio:\n",
    "\n",
    "```python\n",
    "Ada: 1999\n",
    "Pippo: 1980\n",
    "Felice: 1976\n",
    "Geronima: 1999\n",
    "...\n",
    "```\n",
    "\n",
    "Leggi tutto il file creando un dizionario (`dict`) le cui chiavi sono corrispondono all’età della persona alla data attuale. A ciascuna età deve essere associata una lista con i nomi di persone che hanno quell’età.\n",
    "\n",
    "Output atteso:\n",
    "\n",
    "```python\n",
    "{24: ['Ada:', 'Geronima:', 'Roberto:'], 43: ['Pippo:', 'Ciccio:'], 47: ['Felice:', 'Mimmo:'], 51: ['Luca:', 'Pluto:'], 100: ['Totò:']}\n",
    "```"
   ]
  },
  {
   "cell_type": "code",
   "execution_count": 26,
   "metadata": {},
   "outputs": [
    {
     "name": "stdout",
     "output_type": "stream",
     "text": [
      "['Ada:', 24]\n",
      "['Pippo:', 43]\n",
      "['Felice:', 47]\n",
      "['Geronima:', 24]\n",
      "['Ciccio:', 43]\n",
      "['Luca:', 51]\n",
      "['Roberto:', 24]\n",
      "['Pluto:', 51]\n",
      "['Mimmo:', 47]\n",
      "['Totò:', 100]\n",
      "{24: ['Ada:', 'Geronima:', 'Roberto:'], 43: ['Pippo:', 'Ciccio:'], 47: ['Felice:', 'Mimmo:'], 51: ['Luca:', 'Pluto:'], 100: ['Totò:']}\n"
     ]
    }
   ],
   "source": [
    "# SOLUZIONE\n",
    "\n",
    "file = open('./nomi_data_nascita.txt', 'r', encoding=\"utf8\").read()\n",
    "\n",
    "#dividere per righe\n",
    "righe= file.split(\"\\n\")\n",
    "\n",
    "#costruire il dizionario\n",
    "output={}\n",
    "\n",
    "#dividere ogni riga per colonna\n",
    "riga=0\n",
    "for r in righe:\n",
    "   colonne= r.split(' ')\n",
    "   #print(r)\n",
    "   colonne[1]=2023-int(colonne[1])\n",
    "   print(colonne)\n",
    "   if colonne[1] not in output:\n",
    "       output[colonne[1]]=[colonne[0]] \n",
    "   else:\n",
    "       output[colonne[1]].append(colonne[0]) \n",
    "\n",
    "\n",
    "print(output)\n",
    "\n",
    "#file.close()"
   ]
  },
  {
   "cell_type": "markdown",
   "metadata": {},
   "source": [
    "Ora, riesci a scriverle in un file nuovo, mantenendo il seguente formato?\n",
    "\n",
    "```python\n",
    "Nome,Età\n",
    "Ada,24\n",
    "Geronima,24\n",
    "Roberto,24\n",
    "Pippo,43\n",
    "Ciccio,43\n",
    "...\n",
    "```"
   ]
  },
  {
   "cell_type": "markdown",
   "metadata": {},
   "source": [
    "Prova a scrivere un nuovo file `nomi_eta.csv` nella cartella `/files_esercizi` del nostro repository.\n",
    "\n",
    "Normalmente i file `.csv` hanno la prima linea dedicata alle \"intestazioni di colonna\". In questo caso nella prima riga del file dovremmo avere `Nome,Età`."
   ]
  },
  {
   "cell_type": "code",
   "execution_count": 53,
   "metadata": {},
   "outputs": [
    {
     "name": "stdout",
     "output_type": "stream",
     "text": [
      "Nome,Età \n",
      "Ada,24\n",
      "Pippo,43\n",
      "Felice,47\n",
      "Geronima,24\n",
      "Ciccio,43\n",
      "Luca,51\n",
      "Roberto,24\n",
      "Pluto,51\n",
      "Mimmo,47\n",
      "Totò,100\n",
      "\n"
     ]
    }
   ],
   "source": [
    "# SOLUZIONE\n",
    "file = open('./nomi_data_nascita.txt', 'r', encoding=\"utf8\").read()\n",
    "\n",
    "#dividere per righe\n",
    "righe= file.split(\"\\n\")\n",
    "#costruire il dizionario\n",
    "dizCSV={}\n",
    "\n",
    "\n",
    "fileCSV='Nome,Età \\n'\n",
    "\n",
    "for r in righe:\n",
    "   colonne= r.split(':')\n",
    "  # print(r)\n",
    "   colonne[1]=2023-int(colonne[1])\n",
    "   #print(colonne)\n",
    "   dizCSV[colonne[0]]=str(colonne[1])\n",
    "  \n",
    "for k3 in dizCSV.keys():\n",
    "    fileCSV += k3 + ',' + dizCSV[k3] + '\\n'\n",
    "  \n",
    "    \n",
    "\n",
    "print(fileCSV)\n",
    "\n",
    "#print(dizCSV)\n",
    "\n",
    "\n",
    "\n",
    "\n",
    "with open('./nomi_eta.CSV', 'w', encoding ='utf-8') as fw:\n",
    "   fw.write(fileCSV)\n",
    "\n"
   ]
  },
  {
   "cell_type": "markdown",
   "metadata": {},
   "source": [
    "Per finire, riusciresti a creare uno script che prende in ingresso due parametri, il file di origine `nomi_data_nascita.txt` e il file di output `nomi_eta.csv` e che esegue le conversione creando il file di output?\n",
    "\n",
    "Per lanciare il nostro script, immaginando di trovarci nella cartella `/files_esercizi`, dovremmo poter lanciare un comando come il seguente:\n",
    "\n",
    "```shell\n",
    "$ py converti_nomi_nascita.py nomi_data_nascita.txt nomi_eta.csv\n",
    "```"
   ]
  },
  {
   "cell_type": "markdown",
   "metadata": {},
   "source": [
    "Crea un nuovo file e chiamalo `converti_nomi_nascita.py` e salvalo dove preferisci, per esempio nella tua cartella `/personale` che dovresti avrere sul tuo branch del nostro repository.\n",
    "\n",
    "Ricorda che poi i percorsi ai file devono essere compatibili con la posizione in cui eseguirai lo script, dove tu ti trovi e dove si trova il file da convertire. Prova varie combinazioni, e vedi cosa succede e dove viene generato il file di output."
   ]
  },
  {
   "cell_type": "code",
   "execution_count": null,
   "metadata": {},
   "outputs": [],
   "source": [
    "import sys\n",
    "\n",
    "path_script=sys.argv[0]\n",
    "\n",
    "if len(sys.argv) != 3:\n",
    "    print('Il numero di parametri passati non è corretto. Devi inserire due stringhe.')\n",
    "else:\n",
    "    file_origine=float(sys.argv[1])\n",
    "    file_output=float(sys.argv[2])"
   ]
  }
 ],
 "metadata": {
  "kernelspec": {
   "display_name": "Python 3 (ipykernel)",
   "language": "python",
   "name": "python3"
  },
  "language_info": {
   "codemirror_mode": {
    "name": "ipython",
    "version": 3
   },
   "file_extension": ".py",
   "mimetype": "text/x-python",
   "name": "python",
   "nbconvert_exporter": "python",
   "pygments_lexer": "ipython3",
   "version": "3.9.7"
  }
 },
 "nbformat": 4,
 "nbformat_minor": 2
}
