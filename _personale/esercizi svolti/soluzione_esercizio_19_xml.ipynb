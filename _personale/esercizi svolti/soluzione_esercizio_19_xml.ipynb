{
 "cells": [
  {
   "cell_type": "markdown",
   "metadata": {},
   "source": [
    "# Io sono elem!\n",
    "\n",
    "Ricevi un documento XML composto da un elemento root e da diversi elementi figli. Ciascuno di questi elementi figli contiene del testo. Scrivete un programma che iteri sugli elementi figli e stampi il testo che contengono.\n",
    "\n",
    "Il documento XML appare come segue:\n",
    "\n",
    "```xml\n",
    "<root><elem1>Io sono elem1</elem1><elem2>Io sono elem2</elem2><elem3>Io sono elem3</elem3></root>\n",
    "```\n",
    "\n",
    "Ci aspettiamo che l'output prodotto sia il seguente:\n",
    "\n",
    "<pre>\n",
    "Io sono elem1\n",
    "Io sono elem2\n",
    "Io sono elem3\n",
    "</pre>"
   ]
  },
  {
   "cell_type": "code",
   "execution_count": 23,
   "metadata": {},
   "outputs": [
    {
     "name": "stdout",
     "output_type": "stream",
     "text": [
      "<root>\n",
      "  <elem1>Io sono elem1</elem1>\n",
      "  <elem2>Io sono elem2</elem2>\n",
      "  <elem3>Io sono elem3</elem3>\n",
      "</root>\n",
      "None\n",
      "Io sono elem1\n",
      "Io sono elem2\n",
      "Io sono elem3\n"
     ]
    }
   ],
   "source": [
    "#C:\\my_proj> pip install lxml\n",
    "\n",
    "from lxml import etree\n",
    "\n",
    "xml_str = '<root><elem1>Io sono elem1</elem1><elem2>Io sono elem2</elem2><elem3>Io sono elem3</elem3></root>'\n",
    "\n",
    "# SOLUZIONE\n",
    "\n",
    "\n",
    "root = etree.fromstring(xml_str)\n",
    "print(etree.dump(root))\n",
    "\n",
    "\n",
    "elementi = root\n",
    "for elem in elementi:\n",
    "    print(elem.text)\n",
    "    \n"
   ]
  },
  {
   "cell_type": "code",
   "execution_count": null,
   "metadata": {},
   "outputs": [],
   "source": []
  }
 ],
 "metadata": {
  "kernelspec": {
   "display_name": "Python 3 (ipykernel)",
   "language": "python",
   "name": "python3"
  },
  "language_info": {
   "codemirror_mode": {
    "name": "ipython",
    "version": 3
   },
   "file_extension": ".py",
   "mimetype": "text/x-python",
   "name": "python",
   "nbconvert_exporter": "python",
   "pygments_lexer": "ipython3",
   "version": "3.9.7"
  }
 },
 "nbformat": 4,
 "nbformat_minor": 2
}
